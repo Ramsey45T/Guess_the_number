{
 "cells": [
  {
   "cell_type": "markdown",
   "id": "ae2aa71e-1c53-484e-9501-27161b6c550a",
   "metadata": {},
   "source": [
    "# ==== Guess the number game ===="
   ]
  },
  {
   "cell_type": "markdown",
   "id": "79efac7e-eb15-440c-a11b-aa97eba8ec21",
   "metadata": {},
   "source": [
    "- Conditional statement/Control flow/Logical statement\n",
    "- For loop\n",
    "- Functions"
   ]
  },
  {
   "cell_type": "markdown",
   "id": "2cdf2653-a0ec-4f9e-acf0-ac7dfd3f9afe",
   "metadata": {},
   "source": [
    "## conditional statement"
   ]
  },
  {
   "cell_type": "code",
   "execution_count": 3,
   "id": "7030f34c-bdc6-4f4d-adff-0fcc789c1a77",
   "metadata": {},
   "outputs": [
    {
     "name": "stdout",
     "output_type": "stream",
     "text": [
      "child\n"
     ]
    }
   ],
   "source": [
    "age = 3\n",
    "\n",
    "if 0<= age <=12:\n",
    "    print(\"child\")\n",
    "elif 13 <= age <=19:\n",
    "    print(\"Teens\")\n",
    "elif 20 <= age <= 35:\n",
    "    print(\"Youth or Young adult\")\n",
    "elif 36 <= age <= 50: \n",
    "    print(\"senior citizen\")"
   ]
  },
  {
   "cell_type": "markdown",
   "id": "24619f58-79f6-44ec-96e5-e0845dcbbc52",
   "metadata": {},
   "source": [
    "## For loops "
   ]
  },
  {
   "cell_type": "code",
   "execution_count": 4,
   "id": "85cca731-fec6-4223-a8f5-8b5d3337dd34",
   "metadata": {},
   "outputs": [
    {
     "name": "stdout",
     "output_type": "stream",
     "text": [
      "life\n"
     ]
    }
   ],
   "source": [
    "wish_list = [\n",
    "    \"job\",\n",
    "    \"wife\",\n",
    "    \"life\",\n",
    "    \"height\",\n",
    "    \"cars\",\n",
    "    \"private jet\",\n",
    "    \"peace\"\n",
    "]\n",
    "\n",
    "print(wish_list[2])\n"
   ]
  },
  {
   "cell_type": "markdown",
   "id": "76a087d0-942e-4686-9ea1-fa407b9dfca1",
   "metadata": {},
   "source": [
    "## Functions"
   ]
  },
  {
   "cell_type": "code",
   "execution_count": 5,
   "id": "2be6d8ee-c6ca-4bdf-9d62-76c710292635",
   "metadata": {},
   "outputs": [],
   "source": [
    "def greeting(name):\n",
    "    print (\"Hello,\",name,\"We hope you are enjoying python\")"
   ]
  },
  {
   "cell_type": "code",
   "execution_count": 6,
   "id": "8a08b9a8-8614-4135-b5b1-cdc4c3a5ce26",
   "metadata": {},
   "outputs": [
    {
     "name": "stdout",
     "output_type": "stream",
     "text": [
      "Hello, Beinment We hope you are enjoying python\n"
     ]
    }
   ],
   "source": [
    "greeting(\"Beinment\")"
   ]
  },
  {
   "cell_type": "code",
   "execution_count": null,
   "id": "d4af41e3-0490-4cbe-94ac-66ca5586a83a",
   "metadata": {},
   "outputs": [],
   "source": []
  },
  {
   "cell_type": "markdown",
   "id": "3084eae4-0bbf-4b72-b1e4-bda31c11dc9b",
   "metadata": {},
   "source": [
    "# Let the games begin"
   ]
  },
  {
   "cell_type": "code",
   "execution_count": 7,
   "id": "f49c0c6d-40dd-40fe-a99d-292525c3280f",
   "metadata": {},
   "outputs": [
    {
     "name": "stdout",
     "output_type": "stream",
     "text": [
      "**** Guess the game *****\n"
     ]
    }
   ],
   "source": [
    "print(\"**** Guess the game *****\")\n",
    "\n"
   ]
  },
  {
   "cell_type": "code",
   "execution_count": 8,
   "id": "45b19033-6158-4587-ab87-8b3e54a89f9f",
   "metadata": {},
   "outputs": [
    {
     "name": "stdout",
     "output_type": "stream",
     "text": [
      "\n",
      "***** Guess the game *****\n"
     ]
    }
   ],
   "source": [
    "print(\"\\n***** Guess the game *****\")"
   ]
  },
  {
   "cell_type": "code",
   "execution_count": 9,
   "id": "97d42bfe-5175-48fd-8e17-f4432a382b3b",
   "metadata": {},
   "outputs": [],
   "source": [
    "secret_number = 7 # number between 1 to 10"
   ]
  },
  {
   "cell_type": "code",
   "execution_count": 10,
   "id": "6fedbe68-3046-4836-ba7f-1512ca0473a2",
   "metadata": {},
   "outputs": [],
   "source": [
    "guess = 8"
   ]
  },
  {
   "cell_type": "code",
   "execution_count": 11,
   "id": "a3d5889f-417c-4054-bcc1-113f7d0f8666",
   "metadata": {},
   "outputs": [
    {
     "name": "stdout",
     "output_type": "stream",
     "text": [
      "maybe next time!!!!!\n"
     ]
    }
   ],
   "source": [
    "if guess == secret_number:\n",
    "    print(\"You are correct\")\n",
    "else:\n",
    "    print(\"maybe next time!!!!!\")"
   ]
  },
  {
   "cell_type": "code",
   "execution_count": 12,
   "id": "6734e10a-f1d9-4efc-b1af-8c6955dc8c0f",
   "metadata": {},
   "outputs": [
    {
     "name": "stdout",
     "output_type": "stream",
     "text": [
      "oops!!!too low, guess again\n"
     ]
    }
   ],
   "source": [
    "if guess == secret_number:\n",
    "    print(\"You are correct\")\n",
    "elif guess < secret_number:\n",
    "    print(\"oops!! high, guess a lower number \")\n",
    "else:\n",
    "    print(\"oops!!!too low, guess again\")"
   ]
  },
  {
   "cell_type": "markdown",
   "id": "6ad30863-53d2-4c7f-badb-1249704c0ae1",
   "metadata": {},
   "source": [
    "### limitations of the above game\n",
    "- secret number is not secret\n",
    "- repetitive\n",
    "- not fun"
   ]
  },
  {
   "cell_type": "markdown",
   "id": "2033c159-420b-462d-b106-4250c25031e2",
   "metadata": {},
   "source": [
    "### make secret number secret\n"
   ]
  },
  {
   "cell_type": "code",
   "execution_count": 13,
   "id": "111bcd0e-7ce1-48f8-8cd6-d03253572b65",
   "metadata": {},
   "outputs": [],
   "source": [
    "import random"
   ]
  },
  {
   "cell_type": "code",
   "execution_count": 14,
   "id": "fd679ee7-1108-41fd-9b20-3125db2d0d0c",
   "metadata": {},
   "outputs": [],
   "source": [
    "secret_number = random.randint(1,10)"
   ]
  },
  {
   "cell_type": "code",
   "execution_count": 15,
   "id": "ab3b1f77-1a3f-4dad-bd6a-8e8cd5e50c57",
   "metadata": {},
   "outputs": [
    {
     "data": {
      "text/plain": [
       "6"
      ]
     },
     "execution_count": 15,
     "metadata": {},
     "output_type": "execute_result"
    }
   ],
   "source": [
    "secret_number"
   ]
  },
  {
   "cell_type": "code",
   "execution_count": 16,
   "id": "b74e4ef6-cf46-401b-94bb-1d5a77332fad",
   "metadata": {},
   "outputs": [
    {
     "name": "stdout",
     "output_type": "stream",
     "text": [
      "oops!!!too low, guess again\n"
     ]
    }
   ],
   "source": [
    "guess = 7\n",
    "\n",
    "if guess == secret_number:\n",
    "    print(\"You are correct\")\n",
    "elif guess < secret_number:\n",
    "    print(\"oops!! high, guess a lower number \")\n",
    "else:\n",
    "    print(\"oops!!!too low, guess again\")"
   ]
  },
  {
   "cell_type": "markdown",
   "id": "11be4475-825e-44f7-b032-40ade6af67d5",
   "metadata": {},
   "source": [
    "## v2 of the game\n",
    "\n",
    "- create different functions for different sections of the game\n",
    "- create 1 function that contains the entire game "
   ]
  },
  {
   "cell_type": "code",
   "execution_count": 17,
   "id": "a32636f5-c5b2-4b70-a1e8-390b12ccbca4",
   "metadata": {},
   "outputs": [
    {
     "name": "stdin",
     "output_type": "stream",
     "text": [
      " me\n",
      " 22\n",
      " jfjfh\n"
     ]
    }
   ],
   "source": [
    "name= input()\n",
    "age = input()\n",
    "country = input()"
   ]
  },
  {
   "cell_type": "code",
   "execution_count": 18,
   "id": "82bdae46-e6c7-4dc3-b7a5-a7f3bf4457d6",
   "metadata": {},
   "outputs": [
    {
     "name": "stdout",
     "output_type": "stream",
     "text": [
      "me\n",
      "22\n",
      "jfjfh\n"
     ]
    }
   ],
   "source": [
    "print (name)\n",
    "print (age)\n",
    "print (country)"
   ]
  },
  {
   "cell_type": "markdown",
   "id": "51db4250-3112-47e5-9b52-35e8284078a5",
   "metadata": {},
   "source": [
    "## v3 of the game \n"
   ]
  },
  {
   "cell_type": "code",
   "execution_count": 19,
   "id": "20dadd49-e0b8-4fc8-bc29-d7fe1bef00d8",
   "metadata": {},
   "outputs": [
    {
     "name": "stdout",
     "output_type": "stream",
     "text": [
      "\n",
      " ==== guess the number ======\n",
      "\n",
      " I am thinking of a random number between 1 and 10\n",
      "\n",
      " Try guess the number\n",
      "\n"
     ]
    },
    {
     "name": "stdin",
     "output_type": "stream",
     "text": [
      " 3\n"
     ]
    },
    {
     "name": "stdout",
     "output_type": "stream",
     "text": [
      "oops!! high, guess a lower number \n"
     ]
    }
   ],
   "source": [
    "print(\"\\n ==== guess the number ======\")\n",
    "print(\"\\n I am thinking of a random number between 1 and 10\")\n",
    "print (\"\\n Try guess the number\")\n",
    "\n",
    "secret_number= random.randint(1,10)\n",
    "\n",
    "print()\n",
    "guess =int(input())\n",
    "\n",
    "if guess == secret_number:\n",
    "    print(\"You are correct\")\n",
    "elif guess < secret_number:\n",
    "    print(\"oops!! high, guess a lower number \")\n",
    "else:\n",
    "    print(\"oops!!!too low, guess again\")"
   ]
  },
  {
   "cell_type": "markdown",
   "id": "242159a9-3e23-4025-a3e9-bf1b9c2a215e",
   "metadata": {},
   "source": [
    "## V4 of the game"
   ]
  },
  {
   "cell_type": "code",
   "execution_count": 23,
   "id": "24ae4f7a-d47b-4158-bb28-df53ec1d7260",
   "metadata": {},
   "outputs": [
    {
     "name": "stdout",
     "output_type": "stream",
     "text": [
      "\n",
      " ==== guess the number ======\n",
      "\n",
      " I am thinking of a random number between 1 and 10\n",
      "\n",
      " Try guess the number\n",
      "\n"
     ]
    },
    {
     "name": "stdin",
     "output_type": "stream",
     "text": [
      " 6\n"
     ]
    },
    {
     "name": "stdout",
     "output_type": "stream",
     "text": [
      "oops!! high, guess a lower number \n",
      "\n"
     ]
    },
    {
     "name": "stdin",
     "output_type": "stream",
     "text": [
      " 5\n"
     ]
    },
    {
     "name": "stdout",
     "output_type": "stream",
     "text": [
      "oops!! high, guess a lower number \n",
      "\n"
     ]
    },
    {
     "name": "stdin",
     "output_type": "stream",
     "text": [
      " 1\n"
     ]
    },
    {
     "name": "stdout",
     "output_type": "stream",
     "text": [
      "oops!!!too low, guess again\n",
      "\n"
     ]
    },
    {
     "name": "stdin",
     "output_type": "stream",
     "text": [
      " 2\n"
     ]
    },
    {
     "name": "stdout",
     "output_type": "stream",
     "text": [
      "You are correct\n",
      "\n"
     ]
    },
    {
     "name": "stdin",
     "output_type": "stream",
     "text": [
      " 2\n"
     ]
    },
    {
     "name": "stdout",
     "output_type": "stream",
     "text": [
      "You are correct\n"
     ]
    }
   ],
   "source": [
    "print(\"\\n ==== guess the number ======\")\n",
    "print(\"\\n I am thinking of a random number between 1 and 10\")\n",
    "print (\"\\n Try guess the number\")\n",
    "\n",
    "secret_number= random.randint(1,10)\n",
    "\n",
    "for attempt in range(1,6):\n",
    "    print()\n",
    "    guess =int(input())\n",
    "\n",
    "    if guess == secret_number:\n",
    "        print(\"You are correct\")\n",
    "    elif guess > secret_number:\n",
    "        print(\"oops!! high, guess a lower number \")\n",
    "    else:\n",
    "        print(\"oops!!!too low, guess again\")"
   ]
  },
  {
   "cell_type": "markdown",
   "id": "4898f92f-5248-4784-8c13-4df1312d408f",
   "metadata": {},
   "source": [
    "## V5 of the game \n",
    "- create number of attempts to guess , say you can only guess 3 times\n",
    "- tell the player the number of attempts they have left"
   ]
  },
  {
   "cell_type": "code",
   "execution_count": 27,
   "id": "8ac0e042-f382-4c4b-8677-699f4fa138c6",
   "metadata": {},
   "outputs": [
    {
     "name": "stdout",
     "output_type": "stream",
     "text": [
      "\n",
      " ==== guess the number ======\n",
      "\n",
      " I am thinking of a random number between 1 and 10\n",
      "\n",
      " Try guess the number\n",
      "\n",
      " you have only 3 attempts\n",
      "\n"
     ]
    },
    {
     "name": "stdin",
     "output_type": "stream",
     "text": [
      " 4\n"
     ]
    },
    {
     "name": "stdout",
     "output_type": "stream",
     "text": [
      "oops!!!too low, guess again ,Attempts left:  2\n",
      "\n"
     ]
    },
    {
     "name": "stdin",
     "output_type": "stream",
     "text": [
      " 8\n"
     ]
    },
    {
     "name": "stdout",
     "output_type": "stream",
     "text": [
      "oops!! high, guess a lower number, Attempts left:  1\n",
      "\n"
     ]
    },
    {
     "name": "stdin",
     "output_type": "stream",
     "text": [
      " 7\n"
     ]
    },
    {
     "name": "stdout",
     "output_type": "stream",
     "text": [
      "You are correct\n",
      "Game over!!! you have exhausted all your attempts,try a new game.\n",
      " The secret number is: 7\n"
     ]
    }
   ],
   "source": [
    "print(\"\\n ==== guess the number ======\")\n",
    "print(\"\\n I am thinking of a random number between 1 and 10\")\n",
    "print (\"\\n Try guess the number\")\n",
    "print(\"\\n you have only 3 attempts\")\n",
    "\n",
    "secret_number= random.randint(1,10)\n",
    "\n",
    "for attempt in range(1,4):\n",
    "    print()\n",
    "    guess =int(input())\n",
    "\n",
    "    if guess == secret_number:\n",
    "        print(\"You are correct\")\n",
    "    elif guess > secret_number:\n",
    "        print(\"oops!! high, guess a lower number, Attempts left: \", 3-attempt)\n",
    "    else:\n",
    "        print(\"oops!!!too low, guess again ,Attempts left: \", 3-attempt)\n",
    "\n",
    "print(\"Game over!!! you have exhausted all your attempts,try a new game.\\n The secret number is:\",secret_number)"
   ]
  },
  {
   "cell_type": "markdown",
   "id": "9ae4d52e-eaf1-43cb-81a8-a5ed1b76036c",
   "metadata": {},
   "source": [
    "## V6 of the game\n",
    "- make the game be called in a single function\n",
    "- when correct, the game breaks and exits iteration"
   ]
  },
  {
   "cell_type": "code",
   "execution_count": 30,
   "id": "32366670-9f3c-4905-bff6-f4d2c861d9ec",
   "metadata": {},
   "outputs": [],
   "source": [
    "def guess_the_number():\n",
    "\n",
    "    print(\"\\n ==== guess the number ======\")\n",
    "    print(\"\\n I am thinking of a random number between 1 and 10\")\n",
    "    print (\"\\n Try guess the number\")\n",
    "    print(\"\\n you have only 3 attempts\")\n",
    "    \n",
    "    secret_number= random.randint(1,10)\n",
    "    \n",
    "    for attempt in range(1,4):\n",
    "        print()\n",
    "        guess =int(input())\n",
    "    \n",
    "        if guess == secret_number:\n",
    "            print(\"You are correct\")\n",
    "            return\n",
    "        elif guess > secret_number:\n",
    "            print(\"oops!! high, guess a lower number, Attempts left: \", 3-attempt)\n",
    "        else:\n",
    "            print(\"oops!!!too low, guess again ,Attempts left: \", 3-attempt)\n",
    "    \n",
    "    print(\"Game over!!! you have exhausted all your attempts,try a new game.\\n The secret number is:\",secret_number)"
   ]
  },
  {
   "cell_type": "code",
   "execution_count": 31,
   "id": "b04aeb26-eb17-4e55-adc2-960f4c48b45e",
   "metadata": {},
   "outputs": [
    {
     "name": "stdout",
     "output_type": "stream",
     "text": [
      "\n",
      " ==== guess the number ======\n",
      "\n",
      " I am thinking of a random number between 1 and 10\n",
      "\n",
      " Try guess the number\n",
      "\n",
      " you have only 3 attempts\n",
      "\n"
     ]
    },
    {
     "name": "stdin",
     "output_type": "stream",
     "text": [
      " 5\n"
     ]
    },
    {
     "name": "stdout",
     "output_type": "stream",
     "text": [
      "oops!!!too low, guess again ,Attempts left:  2\n",
      "\n"
     ]
    },
    {
     "name": "stdin",
     "output_type": "stream",
     "text": [
      " 8\n"
     ]
    },
    {
     "name": "stdout",
     "output_type": "stream",
     "text": [
      "oops!!!too low, guess again ,Attempts left:  1\n",
      "\n"
     ]
    },
    {
     "name": "stdin",
     "output_type": "stream",
     "text": [
      " 3\n"
     ]
    },
    {
     "name": "stdout",
     "output_type": "stream",
     "text": [
      "oops!!!too low, guess again ,Attempts left:  0\n",
      "Game over!!! you have exhausted all your attempts,try a new game.\n",
      " The secret number is: 10\n"
     ]
    }
   ],
   "source": [
    "guess_the_number()"
   ]
  },
  {
   "cell_type": "code",
   "execution_count": null,
   "id": "16caeab7-4927-4cef-aca6-dcf2cd271e77",
   "metadata": {},
   "outputs": [],
   "source": []
  }
 ],
 "metadata": {
  "kernelspec": {
   "display_name": "Python 3 (ipykernel)",
   "language": "python",
   "name": "python3"
  },
  "language_info": {
   "codemirror_mode": {
    "name": "ipython",
    "version": 3
   },
   "file_extension": ".py",
   "mimetype": "text/x-python",
   "name": "python",
   "nbconvert_exporter": "python",
   "pygments_lexer": "ipython3",
   "version": "3.12.11"
  }
 },
 "nbformat": 4,
 "nbformat_minor": 5
}
